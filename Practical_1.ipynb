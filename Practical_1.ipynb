{
  "nbformat": 4,
  "nbformat_minor": 0,
  "metadata": {
    "colab": {
      "provenance": [],
      "include_colab_link": true
    },
    "kernelspec": {
      "name": "python3",
      "display_name": "Python 3"
    },
    "language_info": {
      "name": "python"
    }
  },
  "cells": [
    {
      "cell_type": "markdown",
      "metadata": {
        "id": "view-in-github",
        "colab_type": "text"
      },
      "source": [
        "<a href=\"https://colab.research.google.com/github/AkhilGangan/MSC_BIOINFORMATICS_530/blob/main/Practical_1.ipynb\" target=\"_parent\"><img src=\"https://colab.research.google.com/assets/colab-badge.svg\" alt=\"Open In Colab\"/></a>"
      ]
    },
    {
      "cell_type": "code",
      "execution_count": 3,
      "metadata": {
        "colab": {
          "base_uri": "https://localhost:8080/"
        },
        "id": "QWXaG0Rutqme",
        "outputId": "49127161-8ee7-4232-d968-18a0a7990355"
      },
      "outputs": [
        {
          "output_type": "stream",
          "name": "stdout",
          "text": [
            "DNA strand is: GGTACTTGCCAT\n",
            "complementary strand is: CCATGAACGGTA\n"
          ]
        }
      ],
      "source": [
        "def complementary_strand_find(dna_strand):\n",
        " \n",
        "    complementary_strand = \"\"\n",
        " \n",
        "    for base in dna_strand:\n",
        " \n",
        "        if base == \"A\" :\n",
        "            complementary_strand += \"T\"\n",
        " \n",
        "        elif base == \"T\" :\n",
        "            complementary_strand += \"A\"\n",
        " \n",
        "        elif base == \"U\" :\n",
        "            complementary_strand += \"A\"\n",
        " \n",
        "        elif base == \"G\" :\n",
        "            complementary_strand += \"C\"\n",
        " \n",
        "        elif base == \"C\" :\n",
        "            complementary_strand += \"G\"\n",
        " \n",
        "        elif base == \"Y\" :\n",
        "            complementary_strand += \"R\"\n",
        " \n",
        "        elif base == \"R\" :\n",
        "            complementary_strand += \"Y\"\n",
        " \n",
        "        else :\n",
        "            print(\"Wrong input\")\n",
        " \n",
        "            complementary_strand = None\n",
        "            \n",
        "            break\n",
        " \n",
        "\n",
        "    return complementary_strand\n",
        " \n",
        "\n",
        "if __name__ == \"__main__\":\n",
        " \n",
        "  dna_strand = \"GGTACTTGCCAT\"\n",
        "print(\"DNA strand is:\",\n",
        "          dna_strand)\n",
        " \n",
        "print(\"complementary strand is:\",\n",
        "          complementary_strand_find(dna_strand))"
      ]
    }
  ]
}