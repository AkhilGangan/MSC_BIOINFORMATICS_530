{
  "nbformat": 4,
  "nbformat_minor": 0,
  "metadata": {
    "colab": {
      "provenance": [],
      "authorship_tag": "ABX9TyP5oNXbmKv2RkY8F6gc6vtn",
      "include_colab_link": true
    },
    "kernelspec": {
      "name": "python3",
      "display_name": "Python 3"
    },
    "language_info": {
      "name": "python"
    }
  },
  "cells": [
    {
      "cell_type": "markdown",
      "metadata": {
        "id": "view-in-github",
        "colab_type": "text"
      },
      "source": [
        "<a href=\"https://colab.research.google.com/github/AkhilGangan/MSC_BIOINFORMATICS_530/blob/main/Practical_3.ipynb\" target=\"_parent\"><img src=\"https://colab.research.google.com/assets/colab-badge.svg\" alt=\"Open In Colab\"/></a>"
      ]
    },
    {
      "cell_type": "code",
      "execution_count": 3,
      "metadata": {
        "colab": {
          "base_uri": "https://localhost:8080/",
          "height": 0
        },
        "id": "UJ0On5sDBTD6",
        "outputId": "cd96c726-f325-4cc7-b2db-3da0f59ae6ec"
      },
      "outputs": [
        {
          "output_type": "stream",
          "name": "stdout",
          "text": [
            "Enter the first sequence::aaaaaa\n",
            "Enter the second sequence::bbbbbb\n",
            "\n",
            "['a', 'a', 'a', 'a', 'a', 'a']\n",
            "['b', 'b', 'b', 'b', 'b', 'b']\n",
            "['0', '0', '0', '0', '0', '0']\n",
            "0\n"
          ]
        }
      ],
      "source": [
        "se1=input(\"Enter the first sequence::\") \n",
        "se2=input(\"Enter the second sequence::\") \n",
        "seq1=list(se1) \n",
        "seq2=list(se2) \n",
        "score=[] \n",
        "def Pairwise_alignment(a,b): \n",
        " gap(a,b) \n",
        " print(a) \n",
        " print(b) \n",
        " value=0 \n",
        " length=len(a) \n",
        " for i in range(0,length): \n",
        "    if(a[i]==b[i]): \n",
        "      score.append('1') \n",
        "      value=value+1 \n",
        "    else: \n",
        "      score.append('0') \n",
        " print(score) \n",
        " print(value) \n",
        "def gap(a,b): \n",
        " if(len(a)==len(b)): \n",
        "   print() \n",
        " else: \n",
        "   k=int(input(\"enter the position to insert::\")) \n",
        "   if (len(a)<len(b)): \n",
        "      a.insert(k,'-') \n",
        "   else: \n",
        "     b.insert(k,'-') \n",
        " return(a,b) \n",
        "Pairwise_alignment(seq1,seq2)"
      ]
    }
  ]
}